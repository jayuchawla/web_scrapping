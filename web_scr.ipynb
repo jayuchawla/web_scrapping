{
 "cells": [
  {
   "cell_type": "markdown",
   "metadata": {},
   "source": [
    "# web scrapping gaana.com"
   ]
  },
  {
   "cell_type": "code",
   "execution_count": 124,
   "metadata": {},
   "outputs": [],
   "source": [
    "##Beautiful Soup is a Python library for pulling data out of HTML and XML files.\n",
    "from bs4 import BeautifulSoup\n",
    "### http request to be sent can be done using this\n",
    "import requests\n",
    "### regular exp.\n",
    "import re"
   ]
  },
  {
   "cell_type": "code",
   "execution_count": 125,
   "metadata": {},
   "outputs": [
    {
     "name": "stdout",
     "output_type": "stream",
     "text": [
      "<ul class=\"clearfix carousel_ul artworkload\" id=\"radiomirchi_ids\"> <span class=\"_na\" id=\"parent-row-playlist12775282\" style=\"display:none\">{\"id\":\"12775282\",\"title\":\"Best of Dj Suketu\",\"index\":0,\"source\":3,\"source_id\":\"12775282\",\"content_source\":\"\",\"path\":\"\",\"objtype\":3,\"trackcount\":\"121506,671006,2514688,2514689,2514690,2514691,2514692,2514693,2514694,2514695,2514696,2514697,2514698,2514699,2663434,2663435,2663436,2663437,2663438,2663439,2663440,2663441,2663442,2663443,3255497,6628813,6628848,19454061,19475468,20831834,20921552,20921553,20921556,1540350,21100804,21100805,21100806,21469669,21469671,21469672,21469674,21781549,21781615,21781625,22054790,22054792,22332204,22332205\",\"track_ids\":null,\"object_type\":3,\"status\":\"0\",\"share_url\":\"\\/playlist\\/gaana-dj-best-of-dj-suketu\",\"albumartwork_large\":\"https:\\/\\/a10.gaanacdn.com\\/images\\/playlists\\/82\\/12775282\\/crop_80x80_12775282_1501662531.jpg\",\"albumartwork\":\"https:\\/\\/a10.gaanacdn.com\\/images\\/playlists\\/82\\/12775282\\/crop_80x80_12775282_1501662531.jpg\",\"premium_content\":\"0\",\"albumtitle\":null,\"albumseokey\":null,\"parental_warning\":0,\"artist\":\"\",\"seokey\":\"gaana-dj-best-of-dj-suketu\",\"language\":\"Hindi\",\"isSponsored\":0,\"isAv_ad\":0,\"duration\":0}</span> <li class=\"list draggable\" data-value=\"playlist12775282\" draggable=\"true\" ondragend=\"dragend(event)\" ondragstart=\"dragstart(event)\"> <ul> <li class=\"artworkload list\" data-value=\"playlist12775282\" id=\"dragplaylist12775282\" style=\"display:none\"> <div class=\"track_npqitemlt dragblock clearfix\"> <div class=\"track_npqitemltinner\"> <div class=\"track_npqitemimg\"><img class=\"drg_img\" data-src=\"https://a10.gaanacdn.com/images/playlists/82/12775282/crop_175x175_12775282_1501662531.jpg\" src=\"https://a10.gaanacdn.com/images/gaanawebsite/albumdefaultcommonv1.jpg\"/></div> <div class=\"track_npqitemdetail\"> <span>Best of Dj Suketu</span> </div> </div> </div> </li> </ul> <div class=\"card_layout_data\"> <div class=\"hover-events-parent\"> <a class=\"play\" data-pjax=\"\" data-premium-value=\"0\" data-type=\"play\" data-value=\"playlist12775282\" href=\"/playlist/gaana-dj-best-of-dj-suketu\"> <svg data-type=\"play\" data-value=\"playlist12775282\" height=\"24\" viewbox=\"0 0 20 24\" width=\"20\"> <path class=\"fill_path\" d=\"M0 0v24l20-12z\" data-type=\"play\" data-value=\"playlist12775282\" fill-rule=\"evenodd\"></path> </svg> </a> <a class=\"imghover\" data-pjax=\"\" data-value=\"playlist12775282\" href=\"/playlist/gaana-dj-best-of-dj-suketu\"><img alt=\"Best of Dj Suketu\" class=\"img\" data-src=\"https://a10.gaanacdn.com/images/playlists/82/12775282/crop_175x175_12775282_1501662531.jpg\" data-value=\"playlist12775282\" src=\"https://a10.gaanacdn.com/images/gaanawebsite/albumdefaultcommonv1.jpg\" title=\"Best of Dj Suketu\"/></a> </div> <div class=\"arwtork_label\"> <a class=\"album-name block_dotes _dotes pjax\" data-pjax=\"\" data-value=\"playlist12775282\" href=\"/playlist/gaana-dj-best-of-dj-suketu\" title=\"Best of Dj Suketu\">Best of Dj Suketu</a><br/> </div> </div> </li> <span class=\"_na\" id=\"parent-row-playlist12775292\" style=\"display:none\">{\"id\":\"12775292\",\"title\":\"Best of Kiran Kamath\",\"index\":0,\"source\":3,\"source_id\":\"12775292\",\"content_source\":\"\",\"path\":\"\",\"objtype\":3,\"trackcount\":\"16767577,20995880,20961268,589741,20998095,21852648,20998097,20998100,14847768,20998096,20998099,21030512,20998098,1520092,569756,14847759,14847763,589740,20998093,14847769,20998088,14819696\",\"track_ids\":null,\"object_type\":3,\"status\":\"0\",\"share_url\":\"\\/playlist\\/gaana-dj-best-of-kiran-kamath\",\"albumartwork_large\":\"https:\\/\\/a10.gaanacdn.com\\/images\\/playlists\\/92\\/12775292\\/crop_80x80_12775292_1501662485.jpg\",\"albumartwork\":\"https:\\/\\/a10.gaanacdn.com\\/images\\/playlists\\/92\\/12775292\\/crop_80x80_12775292_1501662485.jpg\",\"premium_content\":\"0\",\"albumtitle\":null,\"albumseokey\":null,\"parental_warning\":0,\"artist\":\"\",\"seokey\":\"gaana-dj-best-of-kiran-kamath\",\"language\":\"Hindi\",\"isSponsored\":0,\"isAv_ad\":0,\"duration\":0}</span> <li class=\"list draggable\" data-value=\"playlist12775292\" draggable=\"true\" ondragend=\"dragend(event)\" ondragstart=\"dragstart(event)\"> <ul> <li class=\"artworkload list\" data-value=\"playlist12775292\" id=\"dragplaylist12775292\" style=\"display:none\"> <div class=\"track_npqitemlt dragblock clearfix\"> <div class=\"track_npqitemltinner\"> <div class=\"track_npqitemimg\"><img class=\"drg_img\" data-src=\"https://a10.gaanacdn.com/images/playlists/92/12775292/crop_175x175_12775292_1501662485.jpg\" src=\"https://a10.gaanacdn.com/images/gaanawebsite/albumdefaultcommonv1.jpg\"/></div> <div class=\"track_npqitemdetail\"> <span>Best of Kiran Kamath</span> </div> </div> </div> </li> </ul> <div class=\"card_layout_data\"> <div class=\"hover-events-parent\"> <a class=\"play\" data-pjax=\"\" data-premium-value=\"0\" data-type=\"play\" data-value=\"playlist12775292\" href=\"/playlist/gaana-dj-best-of-kiran-kamath\"> <svg data-type=\"play\" data-value=\"playlist12775292\" height=\"24\" viewbox=\"0 0 20 24\" width=\"20\"> <path class=\"fill_path\" d=\"M0 0v24l20-12z\" data-type=\"play\" data-value=\"playlist12775292\" fill-rule=\"evenodd\"></path> </svg> </a> <a class=\"imghover\" data-pjax=\"\" data-value=\"playlist12775292\" href=\"/playlist/gaana-dj-best-of-kiran-kamath\"><img alt=\"Best of Kiran Kamath\" class=\"img\" data-src=\"https://a10.gaanacdn.com/images/playlists/92/12775292/crop_175x175_12775292_1501662485.jpg\" data-value=\"playlist12775292\" src=\"https://a10.gaanacdn.com/images/gaanawebsite/albumdefaultcommonv1.jpg\" title=\"Best of Kiran Kamath\"/></a> </div> <div class=\"arwtork_label\"> <a class=\"album-name block_dotes _dotes pjax\" data-pjax=\"\" data-value=\"playlist12775292\" href=\"/playlist/gaana-dj-best-of-kiran-kamath\" title=\"Best of Kiran Kamath\">Best of Kiran Kamath</a><br/> </div> </div> </li> <span class=\"_na\" id=\"parent-row-playlist12775302\" style=\"display:none\">{\"id\":\"12775302\",\"title\":\"Best of DJ Aqeel\",\"index\":0,\"source\":3,\"source_id\":\"12775302\",\"content_source\":\"\",\"path\":\"\",\"objtype\":3,\"trackcount\":\"3163992,23099038,24333651,131946,132201,24055145,3163989,24137521,21030509,20995881,765373,132112,20634519,136395,25448290,133536,20921557,1625788,135424,1625787,1625789,132111,131945,131951,1625792,132207,132110,132117,131953,132203,289729,133545,1625790,132115,20998094,132113,133541,132118,132119,133537\",\"track_ids\":null,\"object_type\":3,\"status\":\"0\",\"share_url\":\"\\/playlist\\/gaana-dj-best-of-dj-aqeel\",\"albumartwork_large\":\"https:\\/\\/a10.gaanacdn.com\\/images\\/playlists\\/2\\/12775302\\/crop_80x80_12775302_1501660353.jpg\",\"albumartwork\":\"https:\\/\\/a10.gaanacdn.com\\/images\\/playlists\\/2\\/12775302\\/crop_80x80_12775302_1501660353.jpg\",\"premium_content\":\"0\",\"albumtitle\":null,\"albumseokey\":null,\"parental_warning\":0,\"artist\":\"\",\"seokey\":\"gaana-dj-best-of-dj-aqeel\",\"language\":\"Hindi\",\"isSponsored\":0,\"isAv_ad\":0,\"duration\":0}</span> <li class=\"list draggable\" data-value=\"playlist12775302\" draggable=\"true\" ondragend=\"dragend(event)\" ondragstart=\"dragstart(event)\"> <ul> <li class=\"artworkload list\" data-value=\"playlist12775302\" id=\"dragplaylist12775302\" style=\"display:none\"> <div class=\"track_npqitemlt dragblock clearfix\"> <div class=\"track_npqitemltinner\"> <div class=\"track_npqitemimg\"><img class=\"drg_img\" data-src=\"https://a10.gaanacdn.com/images/playlists/2/12775302/crop_175x175_12775302_1501660353.jpg\" src=\"https://a10.gaanacdn.com/images/gaanawebsite/albumdefaultcommonv1.jpg\"/></div> <div class=\"track_npqitemdetail\"> <span>Best of DJ Aqeel</span> </div> </div> </div> </li> </ul> <div class=\"card_layout_data\"> <div class=\"hover-events-parent\"> <a class=\"play\" data-pjax=\"\" data-premium-value=\"0\" data-type=\"play\" data-value=\"playlist12775302\" href=\"/playlist/gaana-dj-best-of-dj-aqeel\"> <svg data-type=\"play\" data-value=\"playlist12775302\" height=\"24\" viewbox=\"0 0 20 24\" width=\"20\"> <path class=\"fill_path\" d=\"M0 0v24l20-12z\" data-type=\"play\" data-value=\"playlist12775302\" fill-rule=\"evenodd\"></path> </svg> </a> <a class=\"imghover\" data-pjax=\"\" data-value=\"playlist12775302\" href=\"/playlist/gaana-dj-best-of-dj-aqeel\"><img alt=\"Best of DJ Aqeel\" class=\"img\" data-src=\"https://a10.gaanacdn.com/images/playlists/2/12775302/crop_175x175_12775302_1501660353.jpg\" data-value=\"playlist12775302\" src=\"https://a10.gaanacdn.com/images/gaanawebsite/albumdefaultcommonv1.jpg\" title=\"Best of DJ Aqeel\"/></a> </div> <div class=\"arwtork_label\"> <a class=\"album-name block_dotes _dotes pjax\" data-pjax=\"\" data-value=\"playlist12775302\" href=\"/playlist/gaana-dj-best-of-dj-aqeel\" title=\"Best of DJ Aqeel\">Best of DJ Aqeel</a><br/> </div> </div> </li> <span class=\"_na\" id=\"parent-row-playlist12775312\" style=\"display:none\">{\"id\":\"12775312\",\"title\":\"Best of DJ Akbar Sami\",\"index\":0,\"source\":3,\"source_id\":\"12775312\",\"content_source\":\"\",\"path\":\"\",\"objtype\":3,\"trackcount\":\"474,14803318,14803321,14803324,19501383,20998091\",\"track_ids\":null,\"object_type\":3,\"status\":\"0\",\"share_url\":\"\\/playlist\\/gaana-dj-best-of-dj-akbar-sami\",\"albumartwork_large\":\"https:\\/\\/a10.gaanacdn.com\\/images\\/playlists\\/12\\/12775312\\/crop_80x80_12775312_1501660389.jpg\",\"albumartwork\":\"https:\\/\\/a10.gaanacdn.com\\/images\\/playlists\\/12\\/12775312\\/crop_80x80_12775312_1501660389.jpg\",\"premium_content\":\"0\",\"albumtitle\":null,\"albumseokey\":null,\"parental_warning\":0,\"artist\":\"\",\"seokey\":\"gaana-dj-best-of-dj-akbar-sami\",\"language\":\"Hindi\",\"isSponsored\":0,\"isAv_ad\":0,\"duration\":0}</span> <li class=\"list draggable\" data-value=\"playlist12775312\" draggable=\"true\" ondragend=\"dragend(event)\" ondragstart=\"dragstart(event)\"> <ul> <li class=\"artworkload list\" data-value=\"playlist12775312\" id=\"dragplaylist12775312\" style=\"display:none\"> <div class=\"track_npqitemlt dragblock clearfix\"> <div class=\"track_npqitemltinner\"> <div class=\"track_npqitemimg\"><img class=\"drg_img\" data-src=\"https://a10.gaanacdn.com/images/playlists/12/12775312/crop_175x175_12775312_1501660389.jpg\" src=\"https://a10.gaanacdn.com/images/gaanawebsite/albumdefaultcommonv1.jpg\"/></div> <div class=\"track_npqitemdetail\"> <span>Best of DJ Akbar Sami</span> </div> </div> </div> </li> </ul> <div class=\"card_layout_data\"> <div class=\"hover-events-parent\"> <a class=\"play\" data-pjax=\"\" data-premium-value=\"0\" data-type=\"play\" data-value=\"playlist12775312\" href=\"/playlist/gaana-dj-best-of-dj-akbar-sami\"> <svg data-type=\"play\" data-value=\"playlist12775312\" height=\"24\" viewbox=\"0 0 20 24\" width=\"20\"> <path class=\"fill_path\" d=\"M0 0v24l20-12z\" data-type=\"play\" data-value=\"playlist12775312\" fill-rule=\"evenodd\"></path> </svg> </a> <a class=\"imghover\" data-pjax=\"\" data-value=\"playlist12775312\" href=\"/playlist/gaana-dj-best-of-dj-akbar-sami\"><img alt=\"Best of DJ Akbar Sami\" class=\"img\" data-src=\"https://a10.gaanacdn.com/images/playlists/12/12775312/crop_175x175_12775312_1501660389.jpg\" data-value=\"playlist12775312\" src=\"https://a10.gaanacdn.com/images/gaanawebsite/albumdefaultcommonv1.jpg\" title=\"Best of DJ Akbar Sami\"/></a> </div> <div class=\"arwtork_label\"> <a class=\"album-name block_dotes _dotes pjax\" data-pjax=\"\" data-value=\"playlist12775312\" href=\"/playlist/gaana-dj-best-of-dj-akbar-sami\" title=\"Best of DJ Akbar Sami\">Best of DJ Akbar Sami</a><br/> </div> </div> </li> <span class=\"_na\" id=\"parent-row-playlist12775340\" style=\"display:none\">{\"id\":\"12775340\",\"title\":\"Best Of Nucleya\",\"index\":0,\"source\":3,\"source_id\":\"12775340\",\"content_source\":\"\",\"path\":\"\",\"objtype\":3,\"trackcount\":\"17282985,813913,21348811,8666274,21348806,8666276,21348812,21348807,21348810,21348808,21348809\",\"track_ids\":null,\"object_type\":3,\"status\":\"0\",\"share_url\":\"\\/playlist\\/gaana-dj-best-of-nucleya-1\",\"albumartwork_large\":\"https:\\/\\/a10.gaanacdn.com\\/images\\/playlists\\/40\\/12775340\\/crop_80x80_12775340_1501660430.jpg\",\"albumartwork\":\"https:\\/\\/a10.gaanacdn.com\\/images\\/playlists\\/40\\/12775340\\/crop_80x80_12775340_1501660430.jpg\",\"premium_content\":\"0\",\"albumtitle\":null,\"albumseokey\":null,\"parental_warning\":0,\"artist\":\"\",\"seokey\":\"gaana-dj-best-of-nucleya-1\",\"language\":\"Hindi\",\"isSponsored\":0,\"isAv_ad\":0,\"duration\":0}</span> <li class=\"list draggable\" data-value=\"playlist12775340\" draggable=\"true\" ondragend=\"dragend(event)\" ondragstart=\"dragstart(event)\"> <ul> <li class=\"artworkload list\" data-value=\"playlist12775340\" id=\"dragplaylist12775340\" style=\"display:none\"> <div class=\"track_npqitemlt dragblock clearfix\"> <div class=\"track_npqitemltinner\"> <div class=\"track_npqitemimg\"><img class=\"drg_img\" data-src=\"https://a10.gaanacdn.com/images/playlists/40/12775340/crop_175x175_12775340_1501660430.jpg\" src=\"https://a10.gaanacdn.com/images/gaanawebsite/albumdefaultcommonv1.jpg\"/></div> <div class=\"track_npqitemdetail\"> <span>Best Of Nucleya</span> </div> </div> </div> </li> </ul> <div class=\"card_layout_data\"> <div class=\"hover-events-parent\"> <a class=\"play\" data-pjax=\"\" data-premium-value=\"0\" data-type=\"play\" data-value=\"playlist12775340\" href=\"/playlist/gaana-dj-best-of-nucleya-1\"> <svg data-type=\"play\" data-value=\"playlist12775340\" height=\"24\" viewbox=\"0 0 20 24\" width=\"20\"> <path class=\"fill_path\" d=\"M0 0v24l20-12z\" data-type=\"play\" data-value=\"playlist12775340\" fill-rule=\"evenodd\"></path> </svg> </a> <a class=\"imghover\" data-pjax=\"\" data-value=\"playlist12775340\" href=\"/playlist/gaana-dj-best-of-nucleya-1\"><img alt=\"Best Of Nucleya\" class=\"img\" data-src=\"https://a10.gaanacdn.com/images/playlists/40/12775340/crop_175x175_12775340_1501660430.jpg\" data-value=\"playlist12775340\" src=\"https://a10.gaanacdn.com/images/gaanawebsite/albumdefaultcommonv1.jpg\" title=\"Best Of Nucleya\"/></a> </div> <div class=\"arwtork_label\"> <a class=\"album-name block_dotes _dotes pjax\" data-pjax=\"\" data-value=\"playlist12775340\" href=\"/playlist/gaana-dj-best-of-nucleya-1\" title=\"Best Of Nucleya\">Best Of Nucleya</a><br/> </div> </div> </li> <span class=\"_na\" id=\"parent-row-playlist12791729\" style=\"display:none\">{\"id\":\"12791729\",\"title\":\"Best Of DJ Shireen\",\"index\":0,\"source\":3,\"source_id\":\"12791729\",\"content_source\":\"\",\"path\":\"\",\"objtype\":3,\"trackcount\":\"16497467,16497468,16497469,16497470,16497471,16497472,16497473,16497474\",\"track_ids\":null,\"object_type\":3,\"status\":\"0\",\"share_url\":\"\\/playlist\\/gaana-dj-best-of-dj-shireen\",\"albumartwork_large\":\"https:\\/\\/a10.gaanacdn.com\\/images\\/playlists\\/29\\/12791729\\/crop_80x80_12791729_1501660484.jpg\",\"albumartwork\":\"https:\\/\\/a10.gaanacdn.com\\/images\\/playlists\\/29\\/12791729\\/crop_80x80_12791729_1501660484.jpg\",\"premium_content\":\"0\",\"albumtitle\":null,\"albumseokey\":null,\"parental_warning\":0,\"artist\":\"\",\"seokey\":\"gaana-dj-best-of-dj-shireen\",\"language\":\"Hindi\",\"isSponsored\":0,\"isAv_ad\":0,\"duration\":0}</span> <li class=\"list draggable\" data-value=\"playlist12791729\" draggable=\"true\" ondragend=\"dragend(event)\" ondragstart=\"dragstart(event)\"> <ul> <li class=\"artworkload list\" data-value=\"playlist12791729\" id=\"dragplaylist12791729\" style=\"display:none\"> <div class=\"track_npqitemlt dragblock clearfix\"> <div class=\"track_npqitemltinner\"> <div class=\"track_npqitemimg\"><img class=\"drg_img\" data-src=\"https://a10.gaanacdn.com/images/playlists/29/12791729/crop_175x175_12791729_1501660484.jpg\" src=\"https://a10.gaanacdn.com/images/gaanawebsite/albumdefaultcommonv1.jpg\"/></div> <div class=\"track_npqitemdetail\"> <span>Best Of DJ Shireen</span> </div> </div> </div> </li> </ul> <div class=\"card_layout_data\"> <div class=\"hover-events-parent\"> <a class=\"play\" data-pjax=\"\" data-premium-value=\"0\" data-type=\"play\" data-value=\"playlist12791729\" href=\"/playlist/gaana-dj-best-of-dj-shireen\"> <svg data-type=\"play\" data-value=\"playlist12791729\" height=\"24\" viewbox=\"0 0 20 24\" width=\"20\"> <path class=\"fill_path\" d=\"M0 0v24l20-12z\" data-type=\"play\" data-value=\"playlist12791729\" fill-rule=\"evenodd\"></path> </svg> </a> <a class=\"imghover\" data-pjax=\"\" data-value=\"playlist12791729\" href=\"/playlist/gaana-dj-best-of-dj-shireen\"><img alt=\"Best Of DJ Shireen\" class=\"img\" data-src=\"https://a10.gaanacdn.com/images/playlists/29/12791729/crop_175x175_12791729_1501660484.jpg\" data-value=\"playlist12791729\" src=\"https://a10.gaanacdn.com/images/gaanawebsite/albumdefaultcommonv1.jpg\" title=\"Best Of DJ Shireen\"/></a> </div> <div class=\"arwtork_label\"> <a class=\"album-name block_dotes _dotes pjax\" data-pjax=\"\" data-value=\"playlist12791729\" href=\"/playlist/gaana-dj-best-of-dj-shireen\" title=\"Best Of DJ Shireen\">Best Of DJ Shireen</a><br/> </div> </div> </li> <span class=\"_na\" id=\"parent-row-playlist2532542\" style=\"display:none\">{\"id\":\"2532542\",\"title\":\"Best of Calvin Harris\",\"index\":0,\"source\":3,\"source_id\":\"2532542\",\"content_source\":\"\",\"path\":\"\",\"objtype\":3,\"trackcount\":\"24111908,23341179,25220835,21824539,17685208,14846158,2757575,20540387,22650000,1814792,653867,653860,643473,588069,463404,2890574,9002921,653856,653861,2998132,606978,3023364,2833525,3003384,17629295,3097513,477988,490368,487558\",\"track_ids\":null,\"object_type\":3,\"status\":\"0\",\"share_url\":\"\\/playlist\\/gaana-dj-party-with-calvin-harris\",\"albumartwork_large\":\"https:\\/\\/a10.gaanacdn.com\\/images\\/playlists\\/42\\/2532542\\/crop_80x80_2532542_1521203375.jpg\",\"albumartwork\":\"https:\\/\\/a10.gaanacdn.com\\/images\\/playlists\\/42\\/2532542\\/crop_80x80_2532542_1521203375.jpg\",\"premium_content\":\"0\",\"albumtitle\":null,\"albumseokey\":null,\"parental_warning\":1,\"artist\":\"\",\"seokey\":\"gaana-dj-party-with-calvin-harris\",\"language\":\"English\",\"isSponsored\":0,\"isAv_ad\":0,\"duration\":0}</span> <li class=\"list draggable\" data-value=\"playlist2532542\" draggable=\"true\" ondragend=\"dragend(event)\" ondragstart=\"dragstart(event)\"> <ul> <li class=\"artworkload list\" data-value=\"playlist2532542\" id=\"dragplaylist2532542\" style=\"display:none\"> <div class=\"track_npqitemlt dragblock clearfix\"> <div class=\"track_npqitemltinner\"> <div class=\"track_npqitemimg\"><img class=\"drg_img\" data-src=\"https://a10.gaanacdn.com/images/playlists/42/2532542/crop_175x175_2532542_1521203375.jpg\" src=\"https://a10.gaanacdn.com/images/gaanawebsite/albumdefaultcommonv1.jpg\"/></div> <div class=\"track_npqitemdetail\"> <span>Best of Calvin Harris</span> </div> </div> </div> </li> </ul> <div class=\"card_layout_data\"> <div class=\"hover-events-parent\"> <a class=\"play\" data-pjax=\"\" data-premium-value=\"0\" data-type=\"play\" data-value=\"playlist2532542\" href=\"/playlist/gaana-dj-party-with-calvin-harris\"> <svg data-type=\"play\" data-value=\"playlist2532542\" height=\"24\" viewbox=\"0 0 20 24\" width=\"20\"> <path class=\"fill_path\" d=\"M0 0v24l20-12z\" data-type=\"play\" data-value=\"playlist2532542\" fill-rule=\"evenodd\"></path> </svg> </a> <a class=\"imghover\" data-pjax=\"\" data-value=\"playlist2532542\" href=\"/playlist/gaana-dj-party-with-calvin-harris\"><img alt=\"Best of Calvin Harris\" class=\"img\" data-src=\"https://a10.gaanacdn.com/images/playlists/42/2532542/crop_175x175_2532542_1521203375.jpg\" data-value=\"playlist2532542\" src=\"https://a10.gaanacdn.com/images/gaanawebsite/albumdefaultcommonv1.jpg\" title=\"Best of Calvin Harris\"/></a> </div> <div class=\"arwtork_label\"> <a class=\"album-name block_dotes _dotes pjax explicticon\" data-pjax=\"\" data-value=\"playlist2532542\" href=\"/playlist/gaana-dj-party-with-calvin-harris\" title=\"Best of Calvin Harris\">Best of Calvin Harris</a><br/> </div> </div> </li> <span class=\"_na\" id=\"parent-row-playlist967420\" style=\"display:none\">{\"id\":\"967420\",\"title\":\"The Best of David Guetta\",\"index\":0,\"source\":3,\"source_id\":\"967420\",\"content_source\":\"\",\"path\":\"\",\"objtype\":3,\"trackcount\":\"3183803,27524425,26525022,16896590,14856458,2845226,2616345,2639060,14856459,23075579,16865589,18042545,2115979,3183805,14772172,2639059,2179988,1351156,2993937,2616915,2105211,18042547\",\"track_ids\":null,\"object_type\":3,\"status\":\"0\",\"share_url\":\"\\/playlist\\/gaana-dj-best-of-david-guetta\",\"albumartwork_large\":\"https:\\/\\/a10.gaanacdn.com\\/images\\/playlists\\/20\\/967420\\/crop_80x80_967420_1521203433.jpg\",\"albumartwork\":\"https:\\/\\/a10.gaanacdn.com\\/images\\/playlists\\/20\\/967420\\/crop_80x80_967420_1521203433.jpg\",\"premium_content\":\"0\",\"albumtitle\":null,\"albumseokey\":null,\"parental_warning\":1,\"artist\":\"\",\"seokey\":\"gaana-dj-best-of-david-guetta\",\"language\":\"English\",\"isSponsored\":0,\"isAv_ad\":0,\"duration\":0}</span> <li class=\"list draggable\" data-value=\"playlist967420\" draggable=\"true\" ondragend=\"dragend(event)\" ondragstart=\"dragstart(event)\"> <ul> <li class=\"artworkload list\" data-value=\"playlist967420\" id=\"dragplaylist967420\" style=\"display:none\"> <div class=\"track_npqitemlt dragblock clearfix\"> <div class=\"track_npqitemltinner\"> <div class=\"track_npqitemimg\"><img class=\"drg_img\" data-src=\"https://a10.gaanacdn.com/images/playlists/20/967420/crop_175x175_967420_1521203433.jpg\" src=\"https://a10.gaanacdn.com/images/gaanawebsite/albumdefaultcommonv1.jpg\"/></div> <div class=\"track_npqitemdetail\"> <span>The Best of David Guetta</span> </div> </div> </div> </li> </ul> <div class=\"card_layout_data\"> <div class=\"hover-events-parent\"> <a class=\"play\" data-pjax=\"\" data-premium-value=\"0\" data-type=\"play\" data-value=\"playlist967420\" href=\"/playlist/gaana-dj-best-of-david-guetta\"> <svg data-type=\"play\" data-value=\"playlist967420\" height=\"24\" viewbox=\"0 0 20 24\" width=\"20\"> <path class=\"fill_path\" d=\"M0 0v24l20-12z\" data-type=\"play\" data-value=\"playlist967420\" fill-rule=\"evenodd\"></path> </svg> </a> <a class=\"imghover\" data-pjax=\"\" data-value=\"playlist967420\" href=\"/playlist/gaana-dj-best-of-david-guetta\"><img alt=\"The Best of David Guetta\" class=\"img\" data-src=\"https://a10.gaanacdn.com/images/playlists/20/967420/crop_175x175_967420_1521203433.jpg\" data-value=\"playlist967420\" src=\"https://a10.gaanacdn.com/images/gaanawebsite/albumdefaultcommonv1.jpg\" title=\"The Best of David Guetta\"/></a> </div> <div class=\"arwtork_label\"> <a class=\"album-name block_dotes _dotes pjax explicticon\" data-pjax=\"\" data-value=\"playlist967420\" href=\"/playlist/gaana-dj-best-of-david-guetta\" title=\"The Best of David Guetta\">The Best of David Guetta</a><br/> </div> </div> </li> <span class=\"_na\" id=\"parent-row-playlist3737583\" style=\"display:none\">{\"id\":\"3737583\",\"title\":\"Best of Alesso\",\"index\":0,\"source\":3,\"source_id\":\"3737583\",\"content_source\":\"\",\"path\":\"\",\"objtype\":3,\"trackcount\":\"17443368,2726844,21230178,3335551,2930841,2726163,1609910,712220,2472749,6408674,13694794,13694795,13694798,13694800,2930842,3216420,14666347\",\"track_ids\":null,\"object_type\":3,\"status\":\"0\",\"share_url\":\"\\/playlist\\/gaana-dj-best-of-alesso\",\"albumartwork_large\":\"https:\\/\\/a10.gaanacdn.com\\/images\\/playlists\\/83\\/3737583\\/crop_80x80_3737583_1435920770.jpg\",\"albumartwork\":\"https:\\/\\/a10.gaanacdn.com\\/images\\/playlists\\/83\\/3737583\\/crop_80x80_3737583_1435920770.jpg\",\"premium_content\":\"0\",\"albumtitle\":null,\"albumseokey\":null,\"parental_warning\":1,\"artist\":\"\",\"seokey\":\"gaana-dj-best-of-alesso\",\"language\":\"English\",\"isSponsored\":0,\"isAv_ad\":0,\"duration\":0}</span> <li class=\"list draggable\" data-value=\"playlist3737583\" draggable=\"true\" ondragend=\"dragend(event)\" ondragstart=\"dragstart(event)\"> <ul> <li class=\"artworkload list\" data-value=\"playlist3737583\" id=\"dragplaylist3737583\" style=\"display:none\"> <div class=\"track_npqitemlt dragblock clearfix\"> <div class=\"track_npqitemltinner\"> <div class=\"track_npqitemimg\"><img class=\"drg_img\" data-src=\"https://a10.gaanacdn.com/images/playlists/83/3737583/crop_175x175_3737583_1435920770.jpg\" src=\"https://a10.gaanacdn.com/images/gaanawebsite/albumdefaultcommonv1.jpg\"/></div> <div class=\"track_npqitemdetail\"> <span>Best of Alesso</span> </div> </div> </div> </li> </ul> <div class=\"card_layout_data\"> <div class=\"hover-events-parent\"> <a class=\"play\" data-pjax=\"\" data-premium-value=\"0\" data-type=\"play\" data-value=\"playlist3737583\" href=\"/playlist/gaana-dj-best-of-alesso\"> <svg data-type=\"play\" data-value=\"playlist3737583\" height=\"24\" viewbox=\"0 0 20 24\" width=\"20\"> <path class=\"fill_path\" d=\"M0 0v24l20-12z\" data-type=\"play\" data-value=\"playlist3737583\" fill-rule=\"evenodd\"></path> </svg> </a> <a class=\"imghover\" data-pjax=\"\" data-value=\"playlist3737583\" href=\"/playlist/gaana-dj-best-of-alesso\"><img alt=\"Best of Alesso\" class=\"img\" data-src=\"https://a10.gaanacdn.com/images/playlists/83/3737583/crop_175x175_3737583_1435920770.jpg\" data-value=\"playlist3737583\" src=\"https://a10.gaanacdn.com/images/gaanawebsite/albumdefaultcommonv1.jpg\" title=\"Best of Alesso\"/></a> </div> <div class=\"arwtork_label\"> <a class=\"album-name block_dotes _dotes pjax explicticon\" data-pjax=\"\" data-value=\"playlist3737583\" href=\"/playlist/gaana-dj-best-of-alesso\" title=\"Best of Alesso\">Best of Alesso</a><br/> </div> </div> </li> <span class=\"_na\" id=\"parent-row-playlist5074391\" style=\"display:none\">{\"id\":\"5074391\",\"title\":\"Top 15 DJs\",\"index\":0,\"source\":3,\"source_id\":\"5074391\",\"content_source\":\"\",\"path\":\"\",\"objtype\":3,\"trackcount\":\"25876829,24278052,23052602,23823971,21791890,23561712,24211168,23068106,23817333,24089370,23874147,22979347,24358008,17284718,22773693,23544711\",\"track_ids\":null,\"object_type\":3,\"status\":\"0\",\"share_url\":\"\\/playlist\\/gaana-dj-top-15-djs\",\"albumartwork_large\":\"https:\\/\\/a10.gaanacdn.com\\/images\\/playlists\\/91\\/5074391\\/crop_80x80_5074391_1477399426.jpg\",\"albumartwork\":\"https:\\/\\/a10.gaanacdn.com\\/images\\/playlists\\/91\\/5074391\\/crop_80x80_5074391_1477399426.jpg\",\"premium_content\":\"0\",\"albumtitle\":null,\"albumseokey\":null,\"parental_warning\":1,\"artist\":\"\",\"seokey\":\"gaana-dj-top-15-djs\",\"language\":\"English\",\"isSponsored\":0,\"isAv_ad\":0,\"duration\":0}</span> <li class=\"list draggable\" data-value=\"playlist5074391\" draggable=\"true\" ondragend=\"dragend(event)\" ondragstart=\"dragstart(event)\"> <ul> <li class=\"artworkload list\" data-value=\"playlist5074391\" id=\"dragplaylist5074391\" style=\"display:none\"> <div class=\"track_npqitemlt dragblock clearfix\"> <div class=\"track_npqitemltinner\"> <div class=\"track_npqitemimg\"><img class=\"drg_img\" data-src=\"https://a10.gaanacdn.com/images/playlists/91/5074391/crop_175x175_5074391_1477399426.jpg\" src=\"https://a10.gaanacdn.com/images/gaanawebsite/albumdefaultcommonv1.jpg\"/></div> <div class=\"track_npqitemdetail\"> <span>Top 15 DJs</span> </div> </div> </div> </li> </ul> <div class=\"card_layout_data\"> <div class=\"hover-events-parent\"> <a class=\"play\" data-pjax=\"\" data-premium-value=\"0\" data-type=\"play\" data-value=\"playlist5074391\" href=\"/playlist/gaana-dj-top-15-djs\"> <svg data-type=\"play\" data-value=\"playlist5074391\" height=\"24\" viewbox=\"0 0 20 24\" width=\"20\"> <path class=\"fill_path\" d=\"M0 0v24l20-12z\" data-type=\"play\" data-value=\"playlist5074391\" fill-rule=\"evenodd\"></path> </svg> </a> <a class=\"imghover\" data-pjax=\"\" data-value=\"playlist5074391\" href=\"/playlist/gaana-dj-top-15-djs\"><img alt=\"Top 15 DJs\" class=\"img\" data-src=\"https://a10.gaanacdn.com/images/playlists/91/5074391/crop_175x175_5074391_1477399426.jpg\" data-value=\"playlist5074391\" src=\"https://a10.gaanacdn.com/images/gaanawebsite/albumdefaultcommonv1.jpg\" title=\"Top 15 DJs\"/></a> </div> <div class=\"arwtork_label\"> <a class=\"album-name block_dotes _dotes pjax explicticon\" data-pjax=\"\" data-value=\"playlist5074391\" href=\"/playlist/gaana-dj-top-15-djs\" title=\"Top 15 DJs\">Top 15 DJs</a><br/> </div> </div> </li> <span class=\"_na\" id=\"parent-row-playlist5173353\" style=\"display:none\">{\"id\":\"5173353\",\"title\":\"Best of Skrillex\",\"index\":0,\"source\":3,\"source_id\":\"5173353\",\"content_source\":\"\",\"path\":\"\",\"objtype\":3,\"trackcount\":\"3003581,3362628,3139856,2300710,2301616,1866495,2301617,18109514,22264071,14820760,14920726,679286,2282519,2300711,2140825,2300718,2653892,15293378\",\"track_ids\":null,\"object_type\":3,\"status\":\"0\",\"share_url\":\"\\/playlist\\/gaana-dj-best-of-skrillex\",\"albumartwork_large\":\"https:\\/\\/a10.gaanacdn.com\\/images\\/playlists\\/53\\/5173353\\/crop_80x80_5173353_1521203628.jpg\",\"albumartwork\":\"https:\\/\\/a10.gaanacdn.com\\/images\\/playlists\\/53\\/5173353\\/crop_80x80_5173353_1521203628.jpg\",\"premium_content\":\"0\",\"albumtitle\":null,\"albumseokey\":null,\"parental_warning\":1,\"artist\":\"\",\"seokey\":\"gaana-dj-best-of-skrillex\",\"language\":\"English\",\"isSponsored\":0,\"isAv_ad\":0,\"duration\":0}</span> <li class=\"list draggable\" data-value=\"playlist5173353\" draggable=\"true\" ondragend=\"dragend(event)\" ondragstart=\"dragstart(event)\"> <ul> <li class=\"artworkload list\" data-value=\"playlist5173353\" id=\"dragplaylist5173353\" style=\"display:none\"> <div class=\"track_npqitemlt dragblock clearfix\"> <div class=\"track_npqitemltinner\"> <div class=\"track_npqitemimg\"><img class=\"drg_img\" data-src=\"https://a10.gaanacdn.com/images/playlists/53/5173353/crop_175x175_5173353_1521203628.jpg\" src=\"https://a10.gaanacdn.com/images/gaanawebsite/albumdefaultcommonv1.jpg\"/></div> <div class=\"track_npqitemdetail\"> <span>Best of Skrillex</span> </div> </div> </div> </li> </ul> <div class=\"card_layout_data\"> <div class=\"hover-events-parent\"> <a class=\"play\" data-pjax=\"\" data-premium-value=\"0\" data-type=\"play\" data-value=\"playlist5173353\" href=\"/playlist/gaana-dj-best-of-skrillex\"> <svg data-type=\"play\" data-value=\"playlist5173353\" height=\"24\" viewbox=\"0 0 20 24\" width=\"20\"> <path class=\"fill_path\" d=\"M0 0v24l20-12z\" data-type=\"play\" data-value=\"playlist5173353\" fill-rule=\"evenodd\"></path> </svg> </a> <a class=\"imghover\" data-pjax=\"\" data-value=\"playlist5173353\" href=\"/playlist/gaana-dj-best-of-skrillex\"><img alt=\"Best of Skrillex\" class=\"img\" data-src=\"https://a10.gaanacdn.com/images/playlists/53/5173353/crop_175x175_5173353_1521203628.jpg\" data-value=\"playlist5173353\" src=\"https://a10.gaanacdn.com/images/gaanawebsite/albumdefaultcommonv1.jpg\" title=\"Best of Skrillex\"/></a> </div> <div class=\"arwtork_label\"> <a class=\"album-name block_dotes _dotes pjax explicticon\" data-pjax=\"\" data-value=\"playlist5173353\" href=\"/playlist/gaana-dj-best-of-skrillex\" title=\"Best of Skrillex\">Best of Skrillex</a><br/> </div> </div> </li> <span class=\"_na\" id=\"parent-row-playlist5202367\" style=\"display:none\">{\"id\":\"5202367\",\"title\":\"Best of Tiesto\",\"index\":0,\"source\":3,\"source_id\":\"5202367\",\"content_source\":\"\",\"path\":\"\",\"objtype\":3,\"trackcount\":\"23565272,21128467,17933552,680272,16896021,2601802,14068664,16448252,630328,668995,668989,668990,668991,668992,669001,669002,669003,1356247,630758,2097317,2601803,2601806,2601810,2601812,2601827,2601828,2601830\",\"track_ids\":null,\"object_type\":3,\"status\":\"0\",\"share_url\":\"\\/playlist\\/gaana-dj-tiesto-best-hits\",\"albumartwork_large\":\"https:\\/\\/a10.gaanacdn.com\\/images\\/playlists\\/67\\/5202367\\/crop_80x80_5202367_1521203689.jpg\",\"albumartwork\":\"https:\\/\\/a10.gaanacdn.com\\/images\\/playlists\\/67\\/5202367\\/crop_80x80_5202367_1521203689.jpg\",\"premium_content\":\"0\",\"albumtitle\":null,\"albumseokey\":null,\"parental_warning\":0,\"artist\":\"\",\"seokey\":\"gaana-dj-tiesto-best-hits\",\"language\":\"English\",\"isSponsored\":0,\"isAv_ad\":0,\"duration\":0}</span> <li class=\"list draggable\" data-value=\"playlist5202367\" draggable=\"true\" ondragend=\"dragend(event)\" ondragstart=\"dragstart(event)\"> <ul> <li class=\"artworkload list\" data-value=\"playlist5202367\" id=\"dragplaylist5202367\" style=\"display:none\"> <div class=\"track_npqitemlt dragblock clearfix\"> <div class=\"track_npqitemltinner\"> <div class=\"track_npqitemimg\"><img class=\"drg_img\" data-src=\"https://a10.gaanacdn.com/images/playlists/67/5202367/crop_175x175_5202367_1521203689.jpg\" src=\"https://a10.gaanacdn.com/images/gaanawebsite/albumdefaultcommonv1.jpg\"/></div> <div class=\"track_npqitemdetail\"> <span>Best of Tiesto</span> </div> </div> </div> </li> </ul> <div class=\"card_layout_data\"> <div class=\"hover-events-parent\"> <a class=\"play\" data-pjax=\"\" data-premium-value=\"0\" data-type=\"play\" data-value=\"playlist5202367\" href=\"/playlist/gaana-dj-tiesto-best-hits\"> <svg data-type=\"play\" data-value=\"playlist5202367\" height=\"24\" viewbox=\"0 0 20 24\" width=\"20\"> <path class=\"fill_path\" d=\"M0 0v24l20-12z\" data-type=\"play\" data-value=\"playlist5202367\" fill-rule=\"evenodd\"></path> </svg> </a> <a class=\"imghover\" data-pjax=\"\" data-value=\"playlist5202367\" href=\"/playlist/gaana-dj-tiesto-best-hits\"><img alt=\"Best of Tiesto\" class=\"img\" data-src=\"https://a10.gaanacdn.com/images/playlists/67/5202367/crop_175x175_5202367_1521203689.jpg\" data-value=\"playlist5202367\" src=\"https://a10.gaanacdn.com/images/gaanawebsite/albumdefaultcommonv1.jpg\" title=\"Best of Tiesto\"/></a> </div> <div class=\"arwtork_label\"> <a class=\"album-name block_dotes _dotes pjax\" data-pjax=\"\" data-value=\"playlist5202367\" href=\"/playlist/gaana-dj-tiesto-best-hits\" title=\"Best of Tiesto\">Best of Tiesto</a><br/> </div> </div> </li> </ul>\n"
     ]
    }
   ],
   "source": [
    "res = requests.get('https://gaana.com/occasion/party')\n",
    "\n",
    "## get response in lxml format\n",
    "soup = BeautifulSoup(res.text,'lxml')\n",
    "\n",
    "###extract data for those where tag is ul type and class is as named\n",
    "data = soup.find('ul',{'class':'clearfix carousel_ul artworkload'})\n",
    "print(data)"
   ]
  },
  {
   "cell_type": "code",
   "execution_count": 126,
   "metadata": {},
   "outputs": [
    {
     "name": "stdout",
     "output_type": "stream",
     "text": [
      "[<div class=\"track_npqitemdetail\"> <span>Best of Dj Suketu</span> </div>, <div class=\"track_npqitemdetail\"> <span>Best of Kiran Kamath</span> </div>, <div class=\"track_npqitemdetail\"> <span>Best of DJ Aqeel</span> </div>, <div class=\"track_npqitemdetail\"> <span>Best of DJ Akbar Sami</span> </div>, <div class=\"track_npqitemdetail\"> <span>Best Of Nucleya</span> </div>, <div class=\"track_npqitemdetail\"> <span>Best Of DJ Shireen</span> </div>, <div class=\"track_npqitemdetail\"> <span>Best of Calvin Harris</span> </div>, <div class=\"track_npqitemdetail\"> <span>The Best of David Guetta</span> </div>, <div class=\"track_npqitemdetail\"> <span>Best of Alesso</span> </div>, <div class=\"track_npqitemdetail\"> <span>Top 15 DJs</span> </div>, <div class=\"track_npqitemdetail\"> <span>Best of Skrillex</span> </div>, <div class=\"track_npqitemdetail\"> <span>Best of Tiesto</span> </div>]\n"
     ]
    }
   ],
   "source": [
    "art = data.find_all('div',{'class':'track_npqitemdetail'})\n",
    "\n",
    "print(art)"
   ]
  },
  {
   "cell_type": "code",
   "execution_count": 127,
   "metadata": {},
   "outputs": [
    {
     "name": "stdout",
     "output_type": "stream",
     "text": [
      "1 Best of Dj Suketu\n",
      "2 Best of Kiran Kamath\n",
      "3 Best of DJ Aqeel\n",
      "4 Best of DJ Akbar Sami\n",
      "5 Best Of Nucleya\n",
      "6 Best Of DJ Shireen\n",
      "7 Best of Calvin Harris\n",
      "8 The Best of David Guetta\n",
      "9 Best of Alesso\n",
      "10 Top 15 DJs\n",
      "11 Best of Skrillex\n",
      "12 Best of Tiesto\n"
     ]
    }
   ],
   "source": [
    "artists = []\n",
    "for count,artist in enumerate(art,1):\n",
    "    s = artist.find('span')\n",
    "    ### print only that matter which is in between <span> and </span>\n",
    "    print(count, s.text)\n",
    "    ### append to artists\n",
    "    artists.append(s.text)"
   ]
  },
  {
   "cell_type": "markdown",
   "metadata": {},
   "source": [
    "# finding artist's songs\\albums"
   ]
  },
  {
   "cell_type": "code",
   "execution_count": 128,
   "metadata": {},
   "outputs": [
    {
     "name": "stdout",
     "output_type": "stream",
     "text": [
      "Enter your preference from above list: 5\n",
      "Enter artist:  Best Of Nucleya\n"
     ]
    }
   ],
   "source": [
    "choice = int(input('Enter your preference from above list: '))\n",
    "i = 1\n",
    "a = ''\n",
    "for song in artists:\n",
    "    if i==choice:\n",
    "        print('Enter artist: ',song)\n",
    "        a = song.lower()\n",
    "    i+=1"
   ]
  },
  {
   "cell_type": "code",
   "execution_count": 129,
   "metadata": {},
   "outputs": [
    {
     "name": "stdout",
     "output_type": "stream",
     "text": [
      "best of nucleya\n",
      "3\n",
      "https://gaana.com/playlist/gaana-dj-best-of-nucleya\n"
     ]
    }
   ],
   "source": [
    "print(a)\n",
    "### split wrt spaces\n",
    "keyw = re.findall('\\w+',a)\n",
    "print(len(keyw))\n",
    "\n",
    "### create url\n",
    "url_new_artist = 'https://gaana.com/playlist/gaana-dj-'\n",
    "for i in range(len(keyw)-1): \n",
    "    url_new_artist = url_new_artist + keyw[i] + '-'\n",
    "    \n",
    "url_new_artist = url_new_artist + keyw[len(keyw)-1]\n",
    "\n",
    "print(url_new_artist)"
   ]
  },
  {
   "cell_type": "code",
   "execution_count": null,
   "metadata": {},
   "outputs": [],
   "source": [
    "res1 = requests.get(url_new_artist)\n",
    "\n",
    "soup1 = BeautifulSoup(res1.text,'lxml')\n",
    "#print(soup1.prettify())\n",
    "data1 = soup1.find_all('a',{'data-type':'playSong'})\n",
    "\n",
    "print(data1)"
   ]
  },
  {
   "cell_type": "code",
   "execution_count": 123,
   "metadata": {},
   "outputs": [
    {
     "name": "stdout",
     "output_type": "stream",
     "text": [
      "<a class=\"sng_c\" data-type=\"playSong\" data-value=\"song3003581\" href=\"https://gaana.com/song/cinema-skrillex-remix-1\">Cinema (Skrillex Remix)</a>\n",
      "<a class=\"sng_c\" data-type=\"playSong\" data-value=\"song3362628\" href=\"https://gaana.com/song/where-are-now-feat-justin-bieber\">Where Are Ü Now (with Justin Bieber)</a>\n",
      "<a class=\"sng_c\" data-type=\"playSong\" data-value=\"song3139856\" href=\"https://gaana.com/song/ragga-bomb-feat-ragga-twins-skrillex-zomboy-remix\">Ragga Bomb (feat. Ragga Twins) [Skrillex &amp; Zomboy Remix]</a>\n",
      "<a class=\"sng_c\" data-type=\"playSong\" data-value=\"song2300710\" href=\"https://gaana.com/song/scary-monsters-and-nice-sprites-4\">Scary Monsters and Nice Sprites</a>\n",
      "<a class=\"sng_c\" data-type=\"playSong\" data-value=\"song2301616\" href=\"https://gaana.com/song/first-of-the-year\">First of the Year (Equinox)</a>\n",
      "<a class=\"sng_c\" data-type=\"playSong\" data-value=\"song1866495\" href=\"https://gaana.com/song/breakn-a-sweat-1\">Breakn' a Sweat (Zedd Remix)</a>\n",
      "<a class=\"sng_c\" data-type=\"playSong\" data-value=\"song2301617\" href=\"https://gaana.com/song/ruffneck-1\">Ruffneck (Flex)</a>\n",
      "<a class=\"sng_c explicticon\" data-type=\"playSong\" data-value=\"song18109514\" href=\"https://gaana.com/song/purple-lamborghini\">Purple Lamborghini</a>\n",
      "<a class=\"sng_c\" data-type=\"playSong\" data-value=\"song22264071\" href=\"https://gaana.com/song/would-you-ever\">Would You Ever</a>\n",
      "<a class=\"sng_c\" data-type=\"playSong\" data-value=\"song14820760\" href=\"https://gaana.com/song/dirty-vibe-2\">Dirty Vibe</a>\n",
      "<a class=\"sng_c\" data-type=\"playSong\" data-value=\"song14920726\" href=\"https://gaana.com/song/bun-up-the-dance-1\">Bun Up The Dance</a>\n",
      "<a class=\"sng_c\" data-type=\"playSong\" data-value=\"song679286\" href=\"https://gaana.com/song/wild-for-the-night-2\">Wild for the Night</a>\n",
      "<a class=\"sng_c\" data-type=\"playSong\" data-value=\"song2282519\" href=\"https://gaana.com/song/make-it-bun-dem-6\">Make It Bun Dem</a>\n",
      "<a class=\"sng_c\" data-type=\"playSong\" data-value=\"song2300711\" href=\"https://gaana.com/song/kill-everybody-2\">Kill EVERYBODY</a>\n",
      "<a class=\"sng_c\" data-type=\"playSong\" data-value=\"song2140825\" href=\"https://gaana.com/song/try-it-out-2\">Try It Out (Neon Mix)</a>\n",
      "<a class=\"sng_c\" data-type=\"playSong\" data-value=\"song2300718\" href=\"https://gaana.com/song/weekends-8\">Weekends!!! (feat. Sirah)</a>\n",
      "<a class=\"sng_c\" data-type=\"playSong\" data-value=\"song2653892\" href=\"https://gaana.com/song/recess-feat-fatman-scoop-and-michael-angelakos-3\">Recess (feat. Fatman Scoop and Michael Angelakos) [Milo And Otis Remix]</a>\n",
      "<a class=\"sng_c explicticon\" data-type=\"playSong\" data-value=\"song15293378\" href=\"https://gaana.com/song/squad-out-feat-fatman-scoop\">SQUAD OUT! (feat. Fatman Scoop)</a>\n"
     ]
    }
   ],
   "source": [
    "### print only songs not duration\n",
    "i = 1\n",
    "data2=[]\n",
    "for j in data1:\n",
    "    if(i%2!=0):\n",
    "        data2.append(j)\n",
    "        print(j)\n",
    "    i = i+1\n",
    "    "
   ]
  },
  {
   "cell_type": "code",
   "execution_count": null,
   "metadata": {},
   "outputs": [],
   "source": []
  }
 ],
 "metadata": {
  "kernelspec": {
   "display_name": "Python 3",
   "language": "python",
   "name": "python3"
  },
  "language_info": {
   "codemirror_mode": {
    "name": "ipython",
    "version": 3
   },
   "file_extension": ".py",
   "mimetype": "text/x-python",
   "name": "python",
   "nbconvert_exporter": "python",
   "pygments_lexer": "ipython3",
   "version": "3.7.3"
  }
 },
 "nbformat": 4,
 "nbformat_minor": 2
}
